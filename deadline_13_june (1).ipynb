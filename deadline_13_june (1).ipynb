{
  "nbformat": 4,
  "nbformat_minor": 0,
  "metadata": {
    "colab": {
      "name": "deadline 13 june.ipynb",
      "provenance": [],
      "collapsed_sections": []
    },
    "kernelspec": {
      "name": "python3",
      "display_name": "Python 3"
    },
    "language_info": {
      "name": "python"
    }
  },
  "cells": [
    {
      "cell_type": "code",
      "execution_count": null,
      "metadata": {
        "colab": {
          "base_uri": "https://localhost:8080/"
        },
        "id": "zTi_XzPTyBky",
        "outputId": "37cf8e84-803d-40a5-eb28-80fe91087c9b"
      },
      "outputs": [
        {
          "output_type": "stream",
          "name": "stdout",
          "text": [
            "[10, 20, 30, 40, 50, 60]\n",
            "[20, 30, 40, 50, 60, 0]\n",
            "#############################\n",
            "[10, 20, 30, 40, 50, 60]    1\n",
            "[20, 30, 40, 50, 60, 0]\n",
            "\n",
            "[10, 20, 30, 40, 50, 60]    2\n",
            "[30, 40, 50, 60, 0, 0]\n",
            "\n",
            "[10, 20, 30, 40, 50, 60]    3\n",
            "[40, 50, 60, 0, 0, 0]\n",
            "\n",
            "[10, 20, 30, 40, 50, 60]    4\n",
            "[50, 60, 0, 0, 0, 0]\n"
          ]
        }
      ],
      "source": [
        "#1?     https://docs.google.com/document/d/1HOCXMA5BOnwNkGY0JJuOsOnMwQHmOAIqEvg4_9zuBec/edit?usp=sharing\n",
        "\n",
        "# Shift Left k Cells   \n",
        "#Consider an array named source. Write a method/function named shiftLeft( source, k) \n",
        "#that shifts all the elements of the source array to the left by 'k' positions. \n",
        "#You must execute the method by passing an array and number of cells to be shifted.\n",
        "# After calling the method, print the array to show whether the elements have been shifted properly.\n",
        "#Example:\n",
        "#source=[10,20,30,40,50,60]\n",
        "#shiftLeft(source,3)\n",
        "#After calling shiftLeft(source,3), printing the array should give the output as: \n",
        "# [ 40, 50, 60, 0, 0, 0 ]\n",
        "\n",
        "#shift left by RAK sir\n",
        "def shiftLeft( source, k):\n",
        "  j=0\n",
        "  while(j<k):\n",
        "\n",
        "    i=1\n",
        "    while(i<len(source)):\n",
        "\n",
        "      source[i-1]=source[i]\n",
        "      i=i+1\n",
        "    source[len(source)-1]=0\n",
        "    j=j+1\n",
        "source=[ 10,20,30,40,50,60 ]\n",
        "print(source)\n",
        "#shiftLeft(source,1)\n",
        "shiftLeft(source,1)\n",
        "print(source)\n",
        "\n",
        "print(\"#############################\")\n",
        "#left shift like lab sir\n",
        "#Na parle chobi akba works\n",
        "def shift_left(source, k):\n",
        "  i=0\n",
        "  while(i<len(source)-k):\n",
        "    #print(\"inside while \", i ,\"<\",(len(source)-1))\n",
        "    source[i]=source[i+k]\n",
        "    i=i+1\n",
        "  \n",
        "  j=len(source)-1 #5\n",
        "  count=0\n",
        "  while(count<k):\n",
        "    #print(\"I am here\")\n",
        "    \n",
        "    source[j]=0\n",
        "    j=j-1\n",
        "    count+=1\n",
        "source=[10,20,30,40,50,60]\n",
        "print(source,\"   1\")\n",
        "shift_left(source,1)\n",
        "print(source)\n",
        "\n",
        "print()\n",
        "source=[10,20,30,40,50,60]\n",
        "print(source,\"   2\")\n",
        "shift_left(source,2)\n",
        "print(source)\n",
        "\n",
        "print()\n",
        "source=[10,20,30,40,50,60]\n",
        "print(source,\"   3\")\n",
        "shift_left(source,3)\n",
        "print(source)\n",
        "\n",
        "print()\n",
        "source=[10,20,30,40,50,60]\n",
        "print(source,\"   4\")\n",
        "shift_left(source,4)\n",
        "print(source)"
      ]
    },
    {
      "cell_type": "code",
      "source": [
        "#2?\n",
        "#Rotate Left k cells \n",
        "# Consider an array named source. Write a method/function named \n",
        "#rotateLeft( source, k) that rotates all the elements of the source array to the left by 'k' positions. \n",
        "#You must execute the method by passing an array and number of cells to be shifted. After calling the method, \n",
        "#print the array to show whether the elements have been shifted properly.\n",
        "#Example:\n",
        "#source=[10,20,30,40,50,60]\n",
        "#rotateLeft(source,3)\n",
        "#After calling rotateLeft(source,3), printing the array should give the output as: \n",
        "# [ 40, 50, 60, 10, 20, 30]\n",
        "\n",
        "def rotateLeft( source, k):\n",
        "  j=0\n",
        "  while(j<k):\n",
        "\n",
        "    i=1\n",
        "    while(i<len(source)):\n",
        "\n",
        "      source[i-1]=source[i]\n",
        "      i=i+1\n",
        "    source[len(source)-1]=0\n",
        "    j=j+1\n",
        "source=[ 40, 50, 60, 0, 0, 0 ]\n",
        "print(source)\n",
        "#shiftLeft(source,1)\n",
        "shiftLeft(source,2)\n",
        "print(source)\n",
        "\n"
      ],
      "metadata": {
        "colab": {
          "base_uri": "https://localhost:8080/"
        },
        "id": "OoIEnKCo3_37",
        "outputId": "373987c0-48c9-4b42-89b1-eec78ec60103"
      },
      "execution_count": null,
      "outputs": [
        {
          "output_type": "stream",
          "name": "stdout",
          "text": [
            "[40, 50, 60, 0, 0, 0]\n",
            "[60, 0, 0, 0, 0, 0]\n"
          ]
        }
      ]
    },
    {
      "cell_type": "code",
      "source": [
        "#3\n",
        "# Shift Right k Cells   \n",
        "#Consider an array named source. Write a method/function named shifRight( source, k) \n",
        "#that shifts all the elements of the source array to the right by 'k' positions. \n",
        "#You must execute the method by passing an array and number of cells to be shifted. \n",
        "#After calling the method, print the array to show whether the elements have been shifted properly.\n",
        "#Example:\n",
        "#source=[10,20,30,40,50,60]\n",
        "#shiftRight(source,3)\n",
        "#After calling shiftRight(source,3), printing the array should give the output as: \n",
        "# [ 0,0,0,10,20,30 ]\n",
        "#RAK sir method\n",
        "def shiftRight( source, k):\n",
        "  j=0\n",
        "  while(j<k):\n",
        "    i=len(source)-1\n",
        "    while (i>=1):\n",
        "      source[i]=source[i-1]\n",
        "      i=i-1\n",
        "    source[0]=0\n",
        "    j=j+1\n",
        "source=[10,20,30,40,50,60]\n",
        "print(source)\n",
        "shiftRight(source,3)\n",
        "print(source)\n",
        "print(\"#####################################\")\n",
        "\n",
        "##right shift LAB-sir     #have to work dynamcally\n",
        "def shift_right(source,k):  #see phone pic\n",
        "\n",
        "  i=len(source)-1\n",
        "  while(i>=k):\n",
        "    source[i]=source[i-k]   #new\n",
        "    i=i-1\n",
        "  j=0\n",
        "  while(j<k):\n",
        "    source[j]=0\n",
        "    j=j+1\n",
        "source=[10,20,30,40,50,60]\n",
        "print(source)\n",
        "shift_right(source,3)\n",
        "print(source)\n",
        "\n",
        "       \n",
        "\n",
        "\n"
      ],
      "metadata": {
        "colab": {
          "base_uri": "https://localhost:8080/"
        },
        "id": "Y3lgpKwK4vjj",
        "outputId": "366248df-0a38-4583-dadf-8745257da9fa"
      },
      "execution_count": null,
      "outputs": [
        {
          "output_type": "stream",
          "name": "stdout",
          "text": [
            "[10, 20, 30, 40, 50, 60]\n",
            "[0, 0, 0, 10, 20, 30]\n",
            "#####################################\n",
            "[10, 20, 30, 40, 50, 60]\n",
            "[0, 0, 0, 10, 20, 30]\n"
          ]
        }
      ]
    },
    {
      "cell_type": "code",
      "source": [
        "#4\n",
        "#Rotate Right k cells \n",
        "# Consider an array named source. Write a method/function named rotateRight( source, k) \n",
        "#that rotates all the elements of the source array to the right by 'k' positions. \n",
        "#You must execute the method by passing an array and number of cells to be shifted. \n",
        "#After calling the method, print the array to show whether the elements have been shifted properly.\n",
        "#Example:\n",
        "#source=[10,20,30,40,50,60]\n",
        "#rotateRight(source,3)\n",
        "#After calling rotateRight(source,3), printing the array should give the output as: \n",
        "# [ 40, 50, 60, 10, 20, 30]\n",
        "\n",
        "def rotateRight( source, k):\n",
        "\n",
        "  j=0\n",
        "  while(j<k):\n",
        "    i=len(source)-1\n",
        "    temp=source[i]  #new last index is stored\n",
        "    while (i>=1):\n",
        "      source[i]=source[i-1]\n",
        "      i=i-1\n",
        "    source[0]=temp  #new first index = saved index\n",
        "    j=j+1\n",
        "source=[10,20,30,40,50,60]\n",
        "print(source)\n",
        "rotateRight(source,3)\n",
        "print(source)\n",
        "print(\"##########################\")\n",
        "#DOME BY SIR HIMSELF\n",
        "##rotate right LAB-sir     #have to work dynamcally\n",
        "def rotate_Right(source,k):  #see phone pic\n",
        "  temp_array=[0]*k\n",
        "  t = k-1\n",
        "  for i in range(len(source)-1,len(source)-1-k,-1):\n",
        "    temp_array[t]=source[i]\n",
        "    t -= 1\n",
        "  print(temp_array)\n",
        "  i=len(source)-1\n",
        "  while(i>=k):\n",
        "    source[i]=source[i-k]   #new\n",
        "    i=i-1\n",
        "#  j=0\n",
        "#  while(j<k):\n",
        "#    source[j]=0\n",
        "#    j=j+1\n",
        "  j=0\n",
        "  while(j<k):\n",
        "    source[j]=temp_array[j]\n",
        "    j=j+1\n",
        "source=[10,20,30,40,50,60]\n",
        "print(source)\n",
        "rotate_Right(source,3)\n",
        "print(source)"
      ],
      "metadata": {
        "colab": {
          "base_uri": "https://localhost:8080/"
        },
        "id": "3G-TTzhk6AK_",
        "outputId": "d12d167e-1240-4b1b-ee9c-e43b63acdacb"
      },
      "execution_count": null,
      "outputs": [
        {
          "output_type": "stream",
          "name": "stdout",
          "text": [
            "[10, 20, 30, 40, 50, 60]\n",
            "[40, 50, 60, 10, 20, 30]\n",
            "##########################\n",
            "[10, 20, 30, 40, 50, 60]\n",
            "[40, 50, 60]\n",
            "[40, 50, 60, 10, 20, 30]\n"
          ]
        }
      ]
    },
    {
      "cell_type": "code",
      "source": [
        "#5\n",
        "#class note\n",
        "#compact array [10,20,40,50,0,0,0]\n",
        "#length7\n",
        "#size4\n",
        "#1 size=length ---> Not enough size\n",
        "#2 index<0      ---> wrong index\n",
        "#                      i\n",
        "#observe [10,20,30,40,50,0,0,0]\n",
        "#length=8\n",
        "#size=5\n",
        "#3 index>size ---->Wrong index\n",
        "\n",
        "\n",
        "##RIGHT SHIFT LAB SIR\n",
        "#source ndex value\n",
        "def insert_value(source,index,value,size):\n",
        "  i=size-1\n",
        "  while(i>=index):\n",
        "    source[i+1]=source[i]\n",
        "    i-=1\n",
        "  print(source)\n",
        "  source[index]=value\n",
        "  size +=1\n",
        "  return size\n",
        "source=[10,20,30,40,50,0,0]\n",
        "#source index value size\n",
        "size=5\n",
        "size=insert_value(source,2,200,5)\n",
        "print(source)\n",
        "print(size)\n",
        "\n",
        "#\n",
        "\n",
        "\n"
      ],
      "metadata": {
        "colab": {
          "base_uri": "https://localhost:8080/"
        },
        "id": "xG-HmHn3E9VO",
        "outputId": "c05c713b-f633-40d5-9719-a71c7b353353"
      },
      "execution_count": null,
      "outputs": [
        {
          "output_type": "stream",
          "name": "stdout",
          "text": [
            "[10, 20, 30, 30, 40, 50, 0]\n",
            "[10, 20, 200, 30, 40, 50, 0]\n",
            "6\n"
          ]
        }
      ]
    },
    {
      "cell_type": "code",
      "source": [
        "#6      ##in place, single array only\n",
        "#i=0 i is index for source array increases normally\n",
        "#j=0 j is inde of new array increase j as u inserting values in this new fresh perfct array\n",
        "#if 2 is found replace it\n",
        "#do everything in same array\n",
        "#stop when size is reached\n",
        "#again while loop form j index to end \n",
        "#make rest of the indexes 0\n",
        "#Remove all occurrences of a particular element from an array\n",
        "\n",
        "#6Consider an array named source. Write a method/function named removeAll( source, size, element) \n",
        "#that removes all the occurrences of the given element in the source array. You must execute the \n",
        "#method by passing an array, its size and the element to be removed. After calling the method, \n",
        "#print the array to show whether all the occurrences of the element have been removed properly.\n",
        "#Example:\n",
        "#source=[10,2,30,2,50,2,2,0,0]\n",
        "#removeAll(source,7,2)\n",
        "#After calling removeAll(source,7,2), all the occurrences of 2 must be removed. \n",
        "#Printing the array afterwards should give the output as: \n",
        "# [ 10,30,50,0,0,0,0,0,0]\n",
        "\n",
        "#size is number of valid things and length is capacity\n",
        "def removeAll( source, size, element):\n",
        "  i=0\n",
        "  while (i<len(source)):\n",
        "\n",
        "    if (source[i]==element):\n",
        "      j=i+1\n",
        "      while(j<len(source)):\n",
        "        #print(\"inside while\")\n",
        "      \n",
        "        source[j-1]=source[j]\n",
        "        j=j+1\n",
        "      source[len(source)-1]=0\n",
        "    i=i+1\n",
        "    print(source, \"test\")\n",
        "source=[10,2,30,2,50,2,2,0,0]\n",
        "print(source)\n",
        "removeAll(source,7,2)\n",
        "print(source)\n",
        "\n",
        "\n",
        "\n"
      ],
      "metadata": {
        "id": "7JMPqf8cKNGU",
        "colab": {
          "base_uri": "https://localhost:8080/",
          "height": 530
        },
        "outputId": "cd2109a0-28f8-4288-b05f-ae05f21d7030"
      },
      "execution_count": 8,
      "outputs": [
        {
          "output_type": "stream",
          "name": "stdout",
          "text": [
            "[10, 2, 30, 2, 50, 2, 2, 0, 0]\n",
            "[10, 2, 30, 2, 50, 2, 2, 0, 0] test\n",
            "[10, 30, 2, 50, 2, 2, 0, 0, 0] test\n",
            "[10, 30, 50, 2, 2, 0, 0, 0, 0] test\n",
            "[10, 30, 50, 2, 0, 0, 0, 0, 0] test\n",
            "[10, 30, 50, 2, 0, 0, 0, 0, 0] test\n",
            "[10, 30, 50, 2, 0, 0, 0, 0, 0] test\n",
            "[10, 30, 50, 2, 0, 0, 0, 0, 0] test\n",
            "[10, 30, 50, 2, 0, 0, 0, 0, 0] test\n",
            "[10, 30, 50, 2, 0, 0, 0, 0, 0] test\n"
          ]
        },
        {
          "output_type": "error",
          "ename": "IndexError",
          "evalue": "ignored",
          "traceback": [
            "\u001b[0;31m---------------------------------------------------------------------------\u001b[0m",
            "\u001b[0;31mIndexError\u001b[0m                                Traceback (most recent call last)",
            "\u001b[0;32m<ipython-input-8-8cdec72bcb1e>\u001b[0m in \u001b[0;36m<module>\u001b[0;34m()\u001b[0m\n\u001b[1;32m     37\u001b[0m \u001b[0msource\u001b[0m\u001b[0;34m=\u001b[0m\u001b[0;34m[\u001b[0m\u001b[0;36m10\u001b[0m\u001b[0;34m,\u001b[0m\u001b[0;36m2\u001b[0m\u001b[0;34m,\u001b[0m\u001b[0;36m30\u001b[0m\u001b[0;34m,\u001b[0m\u001b[0;36m2\u001b[0m\u001b[0;34m,\u001b[0m\u001b[0;36m50\u001b[0m\u001b[0;34m,\u001b[0m\u001b[0;36m2\u001b[0m\u001b[0;34m,\u001b[0m\u001b[0;36m2\u001b[0m\u001b[0;34m,\u001b[0m\u001b[0;36m0\u001b[0m\u001b[0;34m,\u001b[0m\u001b[0;36m0\u001b[0m\u001b[0;34m]\u001b[0m\u001b[0;34m\u001b[0m\u001b[0;34m\u001b[0m\u001b[0m\n\u001b[1;32m     38\u001b[0m \u001b[0mprint\u001b[0m\u001b[0;34m(\u001b[0m\u001b[0msource\u001b[0m\u001b[0;34m)\u001b[0m\u001b[0;34m\u001b[0m\u001b[0;34m\u001b[0m\u001b[0m\n\u001b[0;32m---> 39\u001b[0;31m \u001b[0mremoveAll\u001b[0m\u001b[0;34m(\u001b[0m\u001b[0msource\u001b[0m\u001b[0;34m,\u001b[0m\u001b[0;36m7\u001b[0m\u001b[0;34m,\u001b[0m\u001b[0;36m2\u001b[0m\u001b[0;34m)\u001b[0m\u001b[0;34m\u001b[0m\u001b[0;34m\u001b[0m\u001b[0m\n\u001b[0m\u001b[1;32m     40\u001b[0m \u001b[0mprint\u001b[0m\u001b[0;34m(\u001b[0m\u001b[0msource\u001b[0m\u001b[0;34m)\u001b[0m\u001b[0;34m\u001b[0m\u001b[0;34m\u001b[0m\u001b[0m\n\u001b[1;32m     41\u001b[0m \u001b[0;34m\u001b[0m\u001b[0m\n",
            "\u001b[0;32m<ipython-input-8-8cdec72bcb1e>\u001b[0m in \u001b[0;36mremoveAll\u001b[0;34m(source, size, element)\u001b[0m\n\u001b[1;32m     25\u001b[0m   \u001b[0;32mwhile\u001b[0m \u001b[0;34m(\u001b[0m\u001b[0mi\u001b[0m\u001b[0;34m<=\u001b[0m\u001b[0mlen\u001b[0m\u001b[0;34m(\u001b[0m\u001b[0msource\u001b[0m\u001b[0;34m)\u001b[0m\u001b[0;34m)\u001b[0m\u001b[0;34m:\u001b[0m\u001b[0;34m\u001b[0m\u001b[0;34m\u001b[0m\u001b[0m\n\u001b[1;32m     26\u001b[0m \u001b[0;34m\u001b[0m\u001b[0m\n\u001b[0;32m---> 27\u001b[0;31m     \u001b[0;32mif\u001b[0m \u001b[0;34m(\u001b[0m\u001b[0msource\u001b[0m\u001b[0;34m[\u001b[0m\u001b[0mi\u001b[0m\u001b[0;34m]\u001b[0m\u001b[0;34m==\u001b[0m\u001b[0melement\u001b[0m\u001b[0;34m)\u001b[0m\u001b[0;34m:\u001b[0m\u001b[0;34m\u001b[0m\u001b[0;34m\u001b[0m\u001b[0m\n\u001b[0m\u001b[1;32m     28\u001b[0m       \u001b[0mj\u001b[0m\u001b[0;34m=\u001b[0m\u001b[0mi\u001b[0m\u001b[0;34m+\u001b[0m\u001b[0;36m1\u001b[0m\u001b[0;34m\u001b[0m\u001b[0;34m\u001b[0m\u001b[0m\n\u001b[1;32m     29\u001b[0m       \u001b[0;32mwhile\u001b[0m\u001b[0;34m(\u001b[0m\u001b[0mj\u001b[0m\u001b[0;34m<\u001b[0m\u001b[0mlen\u001b[0m\u001b[0;34m(\u001b[0m\u001b[0msource\u001b[0m\u001b[0;34m)\u001b[0m\u001b[0;34m)\u001b[0m\u001b[0;34m:\u001b[0m\u001b[0;34m\u001b[0m\u001b[0;34m\u001b[0m\u001b[0m\n",
            "\u001b[0;31mIndexError\u001b[0m: list index out of range"
          ]
        }
      ]
    },
    {
      "cell_type": "code",
      "source": [
        "def removeAll( source, size, element):\n",
        "  for i in range(0,len(source)):\n",
        "    #print(source[i],i)\n",
        "    if source[i]==element:\n",
        "      index=i\n",
        "      left_shift_mod(source,size,element,index)\n",
        "def left_shift_mod(source,size,element,index):\n",
        "  j=index+1\n",
        "  while(j<len(source)):\n",
        "    source[j-1]=source[j]\n",
        "    j=j+1\n",
        "  source[len(source)-1]\n",
        "      #while(j<len(source)):\n",
        "      #  #print(\"inside while\")\n",
        "     # \n",
        "      #  source[j-1]=source[j]\n",
        "      #  j=j+1\n",
        "     # source[len(source)-1]=0\n",
        "  removeAll(source,size,element)\n",
        "  pass\n",
        "\n",
        "source=[10,2,30,2,50,2,2,0,0]\n",
        "print(source)\n",
        "removeAll(source,7,2)\n",
        "print(source)\n",
        "\n",
        "source=[10,2,30,2,50,2,2,50,30,2,2,2,10,20,30,40,50,60,70,80,90]\n",
        "print(source)\n",
        "removeAll(source,7,2)\n",
        "print(source)\n",
        "print(\"6 DONE :)\")"
      ],
      "metadata": {
        "colab": {
          "base_uri": "https://localhost:8080/"
        },
        "id": "Rrs9vvuJ0PZ4",
        "outputId": "476002b7-89b9-4fec-82fb-c5e93471b267"
      },
      "execution_count": 15,
      "outputs": [
        {
          "output_type": "stream",
          "name": "stdout",
          "text": [
            "[10, 2, 30, 2, 50, 2, 2, 0, 0]\n",
            "[10, 30, 50, 0, 0, 0, 0, 0, 0]\n",
            "[10, 2, 30, 2, 50, 2, 2, 50, 30, 2, 2, 2, 10, 20, 30, 40, 50, 60, 70, 80, 90]\n",
            "[10, 30, 50, 50, 30, 10, 20, 30, 40, 50, 60, 70, 80, 90, 90, 90, 90, 90, 90, 90, 90]\n",
            "6 DONE :)\n"
          ]
        }
      ]
    },
    {
      "cell_type": "code",
      "source": [
        "#7"
      ],
      "metadata": {
        "id": "HudkYaeaE5ct"
      },
      "execution_count": null,
      "outputs": []
    },
    {
      "cell_type": "code",
      "source": [
        "#8"
      ],
      "metadata": {
        "id": "-GDYDwQQM7r3"
      },
      "execution_count": null,
      "outputs": []
    },
    {
      "cell_type": "code",
      "source": [
        "#9 mac bunch count\n",
        "#same value continuous repeat"
      ],
      "metadata": {
        "id": "ADgjSiZTNbsn"
      },
      "execution_count": null,
      "outputs": []
    },
    {
      "cell_type": "code",
      "source": [
        "#10 repetation\n"
      ],
      "metadata": {
        "id": "YS58Bxf8N28m"
      },
      "execution_count": null,
      "outputs": []
    },
    {
      "cell_type": "code",
      "source": [
        "#test\n",
        "print(\"#############################\")\n",
        "#left shift like lab sir try\n",
        "def shift_left(source, k):\n",
        "\n",
        "  i=1\n",
        "  while(i<=k):\n",
        "    source[i-1]=source[i]\n",
        "    i=i+1\n",
        "    j=len(source)-1\n",
        "    while(j>k):\n",
        "      source[j]=0\n",
        "      j=j-1\n",
        "source=[40,50,60,70,80,90]\n",
        "print(\"Hello\")\n",
        "print(source)\n",
        "shift_left(source,2)\n",
        "print(source)"
      ],
      "metadata": {
        "colab": {
          "base_uri": "https://localhost:8080/"
        },
        "id": "ViCUiFkvJhxl",
        "outputId": "64877496-685a-4a72-fd39-345137b974fb"
      },
      "execution_count": null,
      "outputs": [
        {
          "output_type": "stream",
          "name": "stdout",
          "text": [
            "#############################\n",
            "Hello\n",
            "[40, 50, 60, 70, 80, 90]\n",
            "[50, 60, 60, 0, 0, 0]\n"
          ]
        }
      ]
    }
  ]
}