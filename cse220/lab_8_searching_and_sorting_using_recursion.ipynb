{
  "cells": [
    {
      "cell_type": "markdown",
      "metadata": {
        "id": "ywHPfnMFZB9u"
      },
      "source": [
        "https://docs.google.com/document/d/1ZOc8yY0qSyhtG8ZgbEzFdP3nfrzVTpnOlfrY9S6Wn40/edit"
      ]
    },
    {
      "cell_type": "markdown",
      "metadata": {
        "id": "K_GG3eY_ZGKD"
      },
      "source": [
        "         Searching and Sorting Lab\n",
        "\n",
        "1. Sort an array RECURSIVELY using selection sort algorithm.\n",
        "\n",
        "2. Sort an array RECURSIVELY using insertion sort algorithm.\n",
        "\n",
        "3. Sort a singly linked sequential list using bubble sort algorithm.\n",
        "\n",
        "4. Sort a singly linked sequential list using selection sort algorithm.\n",
        "\n",
        "5. Sort a DOUBLY linked sequential list using insertion sort algorithm.\n",
        "\n",
        "6. Implement binary search algorithm RECURSIVELY.\n",
        "\n",
        "7. Implement a recursive algorithm to find the n-th Fibonacci number using memoization.\n"
      ]
    },
    {
      "cell_type": "code",
      "execution_count": null,
      "metadata": {
        "colab": {
          "base_uri": "https://localhost:8080/"
        },
        "id": "J1seMGCLZWui",
        "outputId": "6b20796f-efc2-403c-a68e-a9588fc4b292"
      },
      "outputs": [
        {
          "name": "stdout",
          "output_type": "stream",
          "text": [
            "[64, 25, 12, 22, 11]\n",
            "[11, 12, 22, 25, 64]\n"
          ]
        }
      ],
      "source": [
        "#task 1                                                             #DONE but change list\n",
        "#Sort an array RECURSIVELY using selection sort algorithm. \n",
        "A=[64,25,12,22,11]\n",
        "def selectionsort_recursive(A,i):\n",
        "  minIndex=i\n",
        "  for j in range(i+1,len(A)):\n",
        "    if A[minIndex]>A[j]:\n",
        "      minIndex=j\n",
        "  t=A[i]\n",
        "  A[i]=A[minIndex]\n",
        "  A[minIndex]=t\n",
        "  i+=1\n",
        "  if i<len(A):\n",
        "    selectionsort_recursive(A,i)\n",
        "print(A)\n",
        "selectionsort_recursive(A,0)\n",
        "print(A)"
      ]
    },
    {
      "cell_type": "code",
      "execution_count": null,
      "metadata": {
        "colab": {
          "base_uri": "https://localhost:8080/"
        },
        "id": "ewenlVWUbXeL",
        "outputId": "81788ba8-a185-48a2-ca89-a732bf681a59"
      },
      "outputs": [
        {
          "name": "stdout",
          "output_type": "stream",
          "text": [
            "[64, 25, 12, 22, 11]\n",
            "[11, 12, 22, 25, 64]\n"
          ]
        }
      ],
      "source": [
        "# Task 2                                                          #DONE but change variable\n",
        "#Sort an array RECURSIVELY using insertion sort algorithm.\n",
        "\n",
        "#normally\n",
        "#A=[64,25,12,22,11]\n",
        "#print(A)\n",
        "#for i in range(1,len(A)):\n",
        "#  key=A[i]\n",
        "#  j=i-1\n",
        "#  while (j>=0 and key<A[j]):\n",
        "#    A[j+1]=A[j]\n",
        "#    j=j-1\n",
        "#  A[j+1]=key\n",
        "#print(A)\n",
        "def insertionSort_recursive(A,i):\n",
        "  key=A[i]\n",
        "  j=i-1\n",
        "  while(j>=0 and key<A[j]):\n",
        "    A[j+1]=A[j]\n",
        "    j=j-1\n",
        "  A[j+1]=key\n",
        "\n",
        "  i+=1\n",
        "  if i<len(A):\n",
        "    insertionSort_recursive(A,i)\n",
        " \n",
        "A=[64,25,12,22,11]\n",
        "print(A)\n",
        "insertionSort_recursive(A,0)\n",
        "print(A)"
      ]
    },
    {
      "cell_type": "code",
      "execution_count": null,
      "metadata": {
        "colab": {
          "base_uri": "https://localhost:8080/"
        },
        "id": "Ueoxa38GfQpA",
        "outputId": "efc2a495-b213-422a-af5b-515ffa71a9c4"
      },
      "outputs": [
        {
          "name": "stdout",
          "output_type": "stream",
          "text": [
            "11\n",
            "12\n",
            "22\n",
            "25\n",
            "64\n"
          ]
        }
      ],
      "source": [
        "#Task 3                                                                DONE\n",
        "#Sort a singly linked sequential list using bubble sort algorithm.\n",
        "class Node:\n",
        "  def __init__(self, e, n):\n",
        "    self.element = e\n",
        "    self.next = n\n",
        "#A=[1,2,3,4]\n",
        "#head=Node(A[0],None)\n",
        "#tail=head\n",
        "##make linked list recursiely not using loop\n",
        "#for i in range(1,len(A)):\n",
        "#  temp_node=Node(A[i],None)\n",
        "#  tail.next=temp_node\n",
        "#  tail=tail.next\n",
        "\n",
        "head=Node(64,None)\n",
        "b=Node(25,None)\n",
        "c=Node(12,None)\n",
        "d=Node(22,None)\n",
        "e=Node(11,None)\n",
        "head.next=b\n",
        "b.next=c \n",
        "c.next=d\n",
        "d.next=e\n",
        "\n",
        "def getNode(head,i):\n",
        "  \n",
        "  if i==0:\n",
        "    return head\n",
        "  else:\n",
        "    c=0\n",
        "    x=head\n",
        "    while c!=i:\n",
        "      c+=1\n",
        "      x=x.next\n",
        "    return x\n",
        "#normally\n",
        "A=[65,25,12,22,11]\n",
        "def bubblesort_normally(A):\n",
        "  for i in range(0,len(A)):\n",
        "    for j in range(i+1,len(A)):\n",
        "      if A[j]<A[i]:\n",
        "        t=A[i]\n",
        "        A[i]=A[j]\n",
        "        A[j]=t\n",
        "      \n",
        "\n",
        "def bubbleSort_recursively_Slinkedlist(head,i,length):\n",
        "  for j in range(i+1,length):\n",
        "    if getNode(head,j).element < getNode(head,i).element:\n",
        "      #\n",
        "      t=getNode(head,i).element\n",
        "      getNode(head,i).element=getNode(head,j).element\n",
        "      getNode(head,j).element=t\n",
        "    j+=1\n",
        "  i+=1\n",
        "  if i<length:\n",
        "    bubbleSort_recursively_Slinkedlist(head,i,length)\n",
        "  pass\n",
        "bubbleSort_recursively_Slinkedlist(head,0, 5)\n",
        "print(getNode(head,0).element)\n",
        "print(getNode(head,1).element)\n",
        "print(getNode(head,2).element)\n",
        "print(getNode(head,3).element)\n",
        "print(getNode(head,4).element)"
      ]
    },
    {
      "cell_type": "code",
      "execution_count": null,
      "metadata": {
        "colab": {
          "base_uri": "https://localhost:8080/"
        },
        "id": "XpTCLSkAfQtm",
        "outputId": "8e45a8e6-0afd-4a4c-9dbb-f98cec937d7a"
      },
      "outputs": [
        {
          "name": "stdout",
          "output_type": "stream",
          "text": [
            "11\n",
            "12\n",
            "22\n",
            "25\n",
            "64\n"
          ]
        }
      ],
      "source": [
        "#TASK 4                                                                   DONE\n",
        "#Sort a singly linked sequential list using selection sort algorithm.\n",
        "class Node:\n",
        "  def __init__(self, e, n):\n",
        "    self.element = e\n",
        "    self.next = n\n",
        "#A=[1,2,3,4]\n",
        "#head=Node(A[0],None)\n",
        "#tail=head\n",
        "##make linked list recursiely not using loop\n",
        "#for i in range(1,len(A)):\n",
        "#  temp_node=Node(A[i],None)\n",
        "#  tail.next=temp_node\n",
        "#  tail=tail.next\n",
        "\n",
        "head=Node(64,None)\n",
        "b=Node(25,None)\n",
        "c=Node(12,None)\n",
        "d=Node(22,None)\n",
        "e=Node(11,None)\n",
        "head.next=b\n",
        "b.next=c \n",
        "c.next=d\n",
        "d.next=e\n",
        "#print(head.element,b.element,c.element,d.element)\n",
        "def getNode(head,i):\n",
        "  \n",
        "  if i==0:\n",
        "    return head\n",
        "  else:\n",
        "    c=0\n",
        "    x=head\n",
        "    while c!=i:\n",
        "      c+=1\n",
        "      x=x.next\n",
        "    return x\n",
        "#print(\"should 64 \",getNode(head,0).element)\n",
        "#print(\"should 25 \",getNode(head,1).element)\n",
        "#print(\"should 12 \",getNode(head,2).element)\n",
        "#print(\"should 22 \",getNode(head,3).element)\n",
        "#print(\"should 11 \",getNode(head,4).element)\n",
        "#I wan\n",
        "def selectionsort_recursive(head,i,length):\n",
        "  minIndex=i\n",
        "  for j in range(i+1,length):\n",
        "\n",
        "\n",
        "    #if A[minIndex]>A[j]:\n",
        "    if getNode(head,minIndex).element>getNode(head,j).element:\n",
        "      minIndex=j\n",
        "      #minIndex=j\n",
        "  #t=A[i]\n",
        "  t=getNode(head,i).element\n",
        "  #A[i]=A[minIndex]\n",
        "  getNode(head,i).element=getNode(head,minIndex).element\n",
        "  #A[minIndex]=t\n",
        "  getNode(head,minIndex).element=t\n",
        "  \n",
        "  i+=1\n",
        "  if i<length:\n",
        "    selectionsort_recursive(head,i,length)\n",
        "#print(A)\n",
        "selectionsort_recursive(head,0, 5)\n",
        "print(getNode(head,0).element)\n",
        "print(getNode(head,1).element)\n",
        "print(getNode(head,2).element)\n",
        "print(getNode(head,3).element)\n",
        "print(getNode(head,4).element)\n",
        "\n",
        "\n",
        "\n"
      ]
    },
    {
      "cell_type": "code",
      "execution_count": 1,
      "metadata": {
        "colab": {
          "base_uri": "https://localhost:8080/"
        },
        "id": "peR71rv6w1y9",
        "outputId": "1605dc60-43dc-4b7b-d524-c055e94b8e30"
      },
      "outputs": [
        {
          "output_type": "stream",
          "name": "stdout",
          "text": [
            "11\n",
            "12\n",
            "22\n",
            "25\n",
            "64\n"
          ]
        }
      ],
      "source": [
        "#Task 5                   # done\n",
        "#Sort a DOUBLY linked sequential list using insertion sort algorithm.\n",
        "class Node:\n",
        "  def __init__(self, e, n):\n",
        "    self.element = e\n",
        "    self.next = n\n",
        "#A=[1,2,3,4]\n",
        "#head=Node(A[0],None)\n",
        "#tail=head\n",
        "##make linked list recursiely not using loop\n",
        "#for i in range(1,len(A)):\n",
        "#  temp_node=Node(A[i],None)\n",
        "#  tail.next=temp_node\n",
        "#  tail=tail.next\n",
        "\n",
        "head=Node(64,None)\n",
        "b=Node(25,None)\n",
        "c=Node(12,None)\n",
        "d=Node(22,None)\n",
        "e=Node(11,None)\n",
        "head.next=b\n",
        "b.next=c \n",
        "c.next=d\n",
        "d.next=e\n",
        "\n",
        "def getNode(head,i):\n",
        "  \n",
        "  if i==0:\n",
        "    return head\n",
        "  else:\n",
        "    c=0\n",
        "    x=head\n",
        "    while c!=i:\n",
        "      c+=1\n",
        "      x=x.next\n",
        "    return x\n",
        "#normally\n",
        "#for i in range(1, len(arr)):\n",
        "#  \n",
        "#        key = arr[i]\n",
        "#  \n",
        "#        # Move elements of arr[0..i-1], that are\n",
        "#        # greater than key, to one position ahead\n",
        "#        # of their current position\n",
        "#        j = i-1\n",
        "#        while j >= 0 and key < arr[j] :\n",
        "#                arr[j + 1] = arr[j]\n",
        "#                j -= 1\n",
        "#        arr[j + 1] = key\n",
        "def insertion_sort_Slinkedlist(head,i,length):\n",
        "  key=getNode(head,i).element\n",
        "  j=i-1\n",
        "  while j>=0 and key < (getNode(head,j).element):\n",
        "    getNode(head,j+1).element=getNode(head,j).element\n",
        "    j-=1\n",
        "  getNode(head,j+1).element=key\n",
        "\n",
        "  i=i+1\n",
        "  if i<length:\n",
        "    insertion_sort_Slinkedlist(head,i,length)\n",
        "\n",
        "insertion_sort_Slinkedlist(head,i=1,length=5)\n",
        "print(getNode(head,0).element)\n",
        "print(getNode(head,1).element)\n",
        "print(getNode(head,2).element)\n",
        "print(getNode(head,3).element)\n",
        "print(getNode(head,4).element)\n"
      ]
    },
    {
      "cell_type": "code",
      "execution_count": null,
      "metadata": {
        "colab": {
          "base_uri": "https://localhost:8080/"
        },
        "id": "Exa3uedwTrnz",
        "outputId": "206ff20b-9354-4a4b-bd7c-86e0fd069451"
      },
      "outputs": [
        {
          "name": "stdout",
          "output_type": "stream",
          "text": [
            "True\n",
            "True\n",
            "True\n",
            "True\n",
            "True\n",
            "False\n"
          ]
        }
      ],
      "source": [
        "#Task 6                     #DONE\n",
        "#6. Implement binary search algorithm RECURSIVELY.\n",
        "#solving like RAK\n",
        "#prerequisite = must be already sorted array\n",
        "#  0 1 2  3   4\n",
        "A=[5,7,11,25,80]\n",
        "l=0\n",
        "r=4\n",
        "def BinarySearch(A,X,l,r):\n",
        "  #\n",
        "  X=int(X)\n",
        "  l=int(l)\n",
        "  r=int(r)\n",
        "  if r>=1:\n",
        "    #\n",
        "    midIndex=(l+r)//2\n",
        "    if (A[midIndex]==X):\n",
        "      return True\n",
        "    if (X<A[midIndex]):\n",
        "      r=midIndex-1\n",
        "      return BinarySearch(A,X,l,r)\n",
        "    else:#x>A[midIndex]\n",
        "      #\n",
        "      l=midIndex+1\n",
        "      return BinarySearch(A,X,l,r)\n",
        "  else:\n",
        "     return False\n",
        "\n",
        "A=[5,7,11,25,80]\n",
        "l=0\n",
        "r=4\n",
        "print(BinarySearch(A,5,l,r))\n",
        "print(BinarySearch(A,7,l,r))\n",
        "print(BinarySearch(A,11,l,r))\n",
        "print(BinarySearch(A,25,l,r))\n",
        "print(BinarySearch(A,80,l,r))\n",
        "\n",
        "print(BinarySearch(A,1,l,r))"
      ]
    },
    {
      "cell_type": "code",
      "execution_count": 5,
      "metadata": {
        "id": "7iBw6EqibKVr",
        "colab": {
          "base_uri": "https://localhost:8080/"
        },
        "outputId": "e6fea9a8-a63b-48eb-8e9d-cfa1ba6cf646"
      },
      "outputs": [
        {
          "output_type": "stream",
          "name": "stdout",
          "text": [
            "1\n",
            "1\n",
            "2\n",
            "3\n",
            "5\n",
            "8\n",
            "13\n",
            "21\n",
            "12586269025\n"
          ]
        }
      ],
      "source": [
        "#Task 7             #DOne\n",
        "#7. Implement a recursive algorithm to find the n-th Fibonacci number using memoization.\n",
        "class fibo:\n",
        "  def __init__(self):\n",
        "    self.list=[None]*100\n",
        "\n",
        "  def fibonacci(self,n):\n",
        "    if n==0 or n==1:\n",
        "      return n\n",
        "    else:\n",
        "      if self.list[n] !=None:\n",
        "        return self.list[n]\n",
        "      else:# self.list[n]==None:\n",
        "        x=self.list[n]= self.fibonacci(n-1) + self.fibonacci(n-2)\n",
        "        return x \n",
        "f1=fibo()\n",
        "print(f1.fibonacci(1))\n",
        "print(f1.fibonacci(2))\n",
        "print(f1.fibonacci(3))\n",
        "print(f1.fibonacci(4))\n",
        "print(f1.fibonacci(5))\n",
        "print(f1.fibonacci(6))\n",
        "print(f1.fibonacci(7))\n",
        "print(f1.fibonacci(8))\n",
        "\n",
        "#hard test\n",
        "print(f1.fibonacci(50)) #wow actually works OMG!!\n",
        "\n"
      ]
    }
  ],
  "metadata": {
    "colab": {
      "collapsed_sections": [],
      "name": "lab 8 searching and sorting using recursion.ipynb",
      "provenance": []
    },
    "kernelspec": {
      "display_name": "Python 3",
      "name": "python3"
    },
    "language_info": {
      "name": "python"
    }
  },
  "nbformat": 4,
  "nbformat_minor": 0
}