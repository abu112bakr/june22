{
  "nbformat": 4,
  "nbformat_minor": 0,
  "metadata": {
    "colab": {
      "name": "lab 7 deadline 15 aug.ipynb",
      "provenance": [],
      "collapsed_sections": []
    },
    "kernelspec": {
      "name": "python3",
      "display_name": "Python 3"
    },
    "language_info": {
      "name": "python"
    }
  },
  "cells": [
    {
      "cell_type": "code",
      "execution_count": null,
      "metadata": {
        "id": "XDH0Ss2vYxAF"
      },
      "outputs": [],
      "source": [
        ""
      ]
    },
    {
      "cell_type": "markdown",
      "source": [
        "1. [Very Easy] [5 Marks each] \n",
        "\n",
        "a) Implement a recursive algorithm to find factorial of n.   \n",
        "b) Implement a recursive algorithm to find the n-th Fibonacci number.\n",
        "\n",
        "c)Print all the elements of a given array recursively.\n",
        "\n",
        "d) Given base and n that are both 1 or more, compute recursively (no loops) the value of base  to the n power, so powerN(3, 2) is 9 (3 squared). \n",
        "powerN(3, 1) → 3 \n",
        "powerN(3, 2) → 9 \n",
        "powerN(3, 3) → 27 \n"
      ],
      "metadata": {
        "id": "KSiK_f4CZOT3"
      }
    },
    {
      "cell_type": "code",
      "source": [
        "#Base case important without if you cant stop recursion. basically infinite loop occur  #Done\n",
        "#Task1\n",
        "#a)\n",
        "def factorial_recursive(n):\n",
        "  if n==0 or n==1:\n",
        "    return 1\n",
        "  else:\n",
        "    return factorial_recursive(n-1)*n\n",
        "print(factorial_recursive(4))\n",
        "print(factorial_recursive(5))\n",
        "\n",
        "\n",
        "\n",
        "\n",
        "\n"
      ],
      "metadata": {
        "colab": {
          "base_uri": "https://localhost:8080/"
        },
        "id": "GF4pl9GhZQQn",
        "outputId": "0031d66d-e305-4af2-9092-a91ed45f0ce7"
      },
      "execution_count": null,
      "outputs": [
        {
          "output_type": "stream",
          "name": "stdout",
          "text": [
            "24\n",
            "120\n"
          ]
        }
      ]
    },
    {
      "cell_type": "code",
      "source": [
        "#Task 1                   #DONE\n",
        "#b\n",
        "def fibo(n):\n",
        "  if (n==0 or n==1):\n",
        "    return n\n",
        "  else:\n",
        "    return  fibo(n-1) + fibo(n-2)\n",
        "print(fibo(6))\n",
        "print(fibo(7))"
      ],
      "metadata": {
        "id": "DyY76UHmdP4t",
        "colab": {
          "base_uri": "https://localhost:8080/"
        },
        "outputId": "5af9d050-c5c1-4495-b4b7-1670a5281a2f"
      },
      "execution_count": null,
      "outputs": [
        {
          "output_type": "stream",
          "name": "stdout",
          "text": [
            "8\n",
            "13\n"
          ]
        }
      ]
    },
    {
      "cell_type": "code",
      "source": [
        "#Task 1                               #DONE\n",
        "#c)\n",
        "def print_forward(A,i):\n",
        "  #base case when i reaches end of array\n",
        "  if i==len(A):\n",
        "    #return A[i]\n",
        "    return\n",
        "  else:\n",
        "    print (A[i])\n",
        "    #return A[i], print_forward(A,i+1)\n",
        "    print_forward(A,i+1)\n",
        "A=[10,20,30,40,50]\n",
        "i=0\n",
        "print_forward(A,0)"
      ],
      "metadata": {
        "colab": {
          "base_uri": "https://localhost:8080/"
        },
        "id": "W7ShlKpJcfPP",
        "outputId": "e537d689-5519-46b4-e7c3-1948001361d7"
      },
      "execution_count": null,
      "outputs": [
        {
          "output_type": "stream",
          "name": "stdout",
          "text": [
            "10\n",
            "20\n",
            "30\n",
            "40\n",
            "50\n"
          ]
        }
      ]
    },
    {
      "cell_type": "code",
      "source": [
        "#Task1                                                                              #DONE    \n",
        "#d)   \n",
        "#powerN(3, 1) → 3 powerN(3, 2) → 9 powerN(3, 3) → 27 powerN(3, 4) → 81\n",
        "#powerN(3, -1) → 1/3 powerN(3, -2) → 1/9 powerN(3, -3) → 1/27 powerN(3, -4) → 1/81\n",
        "def powerN(n,p):\n",
        "  if p==1:\n",
        "    return n*1\n",
        "  else:\n",
        "    return n*powerN(n,p-1)\n",
        "print(powerN(3,1))\n",
        "print(powerN(3,2))\n",
        "print(powerN(3,3))\n",
        "print(powerN(3,4))"
      ],
      "metadata": {
        "colab": {
          "base_uri": "https://localhost:8080/"
        },
        "id": "qcH4aHM2dX5n",
        "outputId": "27b9290c-bd66-4100-cf60-841c20145ab1"
      },
      "execution_count": null,
      "outputs": [
        {
          "output_type": "stream",
          "name": "stdout",
          "text": [
            "3\n",
            "9\n",
            "27\n",
            "81\n"
          ]
        }
      ]
    },
    {
      "cell_type": "markdown",
      "source": [
        "2. [Easy] [5 Marks each] \n",
        "\n",
        "a)Implement a recursive algorithm that takes a decimal number n and converts n to its corresponding (you may return as a string) binary number.\n",
        "\n",
        "b) Implement a recursive algorithm to add all the elements of a non-dummy headed singly linked linear list. Only head of the list will be given as parameter where you may assume every node can contain only integer as its element.\n",
        "Note: you’ll need a Singly Node class for this code.\n",
        "\n",
        "\n",
        "c) Implement a recursive algorithm which will print all the elements of a non-dummy headed singly linked linear list in reversed order.\n",
        "Example: if the linked list contains 10, 20, 30 and 40, the method will print\n",
        "40\n",
        "30\n",
        "20\n",
        "10\n",
        "Note: you’ll need a Singly Node class for this code.\n"
      ],
      "metadata": {
        "id": "did2BJqigWi5"
      }
    },
    {
      "cell_type": "code",
      "source": [
        "#task 2                                                 #DONE\n",
        "#a      a)Implement a recursive algorithm that takes a decimal number n and converts n to its corresponding (you may return as a string) binary number.\n",
        "\n",
        "\n",
        "def conver_to_binary(n):\n",
        "\n",
        "\n",
        "  if n ==0:\n",
        "    return 0\n",
        "  else:\n",
        "    return conver_to_binary (n//2)*10 + (n%2)\n",
        "\n",
        "conver_to_binary(10)\n",
        "\n",
        "\n",
        "\n",
        "\n",
        "\n"
      ],
      "metadata": {
        "id": "YOP14Elqgk2c",
        "colab": {
          "base_uri": "https://localhost:8080/"
        },
        "outputId": "fc085667-fd33-4cc4-a016-e3706493d115"
      },
      "execution_count": null,
      "outputs": [
        {
          "output_type": "execute_result",
          "data": {
            "text/plain": [
              "1010"
            ]
          },
          "metadata": {},
          "execution_count": 28
        }
      ]
    },
    {
      "cell_type": "code",
      "source": [
        "#task 2                           #Done\n",
        "#b\n",
        "\n",
        "class Node:\n",
        "  def __init__(self, e, n):\n",
        "    self.element = e\n",
        "    self.next = n\n",
        "#A=[1,2,3,4]\n",
        "#head=Node(A[0],None)\n",
        "#tail=head\n",
        "##make linked list recursiely not using loop\n",
        "#for i in range(1,len(A)):\n",
        "#  temp_node=Node(A[i],None)\n",
        "#  tail.next=temp_node\n",
        "#  tail=tail.next\n",
        "\n",
        "head=Node(1,None)\n",
        "b=Node(2,None)\n",
        "c=Node(3,None)\n",
        "d=Node(4,None)\n",
        "head.next=b\n",
        "b.next=c \n",
        "c.next=d\n",
        "\n",
        "sum=0\n",
        "def Addition_recursive(head):\n",
        "  if head.next==None:\n",
        "    #print(head.element)\n",
        "    return head.element \n",
        "\n",
        "  else:\n",
        "    #print(head.element)\n",
        "    x=Addition_recursive(head.next)\n",
        "    #print(x,\"x\")\n",
        "    sum=x+head.element\n",
        "    \n",
        "    return sum  \n",
        "Addition_recursive(head)\n",
        "\n",
        "\n",
        "\n"
      ],
      "metadata": {
        "colab": {
          "base_uri": "https://localhost:8080/"
        },
        "id": "S6jpD8j0g38u",
        "outputId": "35bb6229-01d2-4430-d009-43d25b11bd37"
      },
      "execution_count": null,
      "outputs": [
        {
          "output_type": "execute_result",
          "data": {
            "text/plain": [
              "10"
            ]
          },
          "metadata": {},
          "execution_count": 30
        }
      ]
    },
    {
      "cell_type": "code",
      "source": [
        "#task 2       c)  HARD HARD           PRACTICE\n",
        "#c                                                    # DONE\n",
        "##DO Reverse print\n",
        "\n",
        "class Node:\n",
        "  def __init__(self, e, n):\n",
        "    self.element = e\n",
        "    self.next = n\n",
        "\n",
        "head=Node(10,None)\n",
        "b=Node(20,None)\n",
        "c=Node(30,None)\n",
        "d=Node(40,None)\n",
        "head.next=b\n",
        "b.next=c \n",
        "c.next=d\n",
        "\n",
        "\n",
        "def print_reverse_singly_recursively(head):\n",
        "  if head.next==None:\n",
        "    print(head.element)\n",
        "    #return head.element \n",
        "\n",
        "  else:\n",
        "    print_reverse_singly_recursively(head.next)\n",
        "    print(head.element)\n",
        "    #return sum  \n",
        "print_reverse_singly_recursively(head)"
      ],
      "metadata": {
        "id": "IHwkP2YmnkbG",
        "colab": {
          "base_uri": "https://localhost:8080/"
        },
        "outputId": "e21bb77e-2510-443a-efbe-0d35a98cb3c9"
      },
      "execution_count": null,
      "outputs": [
        {
          "output_type": "stream",
          "name": "stdout",
          "text": [
            "40\n",
            "30\n",
            "20\n",
            "10\n"
          ]
        }
      ]
    },
    {
      "cell_type": "markdown",
      "source": [
        "3. [Medium] [8 Marks] \n",
        "\n",
        "\n",
        "Suppose, you have been given a non-negative integer which is the height of a ‘house of  cards’. To build such a house you at-least require 8 cards. To increase the level (or height)  of that house, you would require four sides and a base for each level. Therefore, for the top  level, you would require 8 cards and for each of the rest of the levels below you would  require 5 extra cards. If you were asked to build level one only, you would require just 8 cards. Of course, the input can be zero; in that case, you do not build a house at all.  Complete the recursive method below to calculate the number of cards required to build  a ‘house of cards’ of specific height given by the parameter. \n",
        "\n",
        "public int hocBuilder (int height){ \n",
        "// TO DO \n",
        "} \n",
        "\n",
        "\n",
        "OR \n",
        "\n",
        "def hocBuilder(height): \n",
        "#TO DO \n"
      ],
      "metadata": {
        "id": "q2sw7PAXucq1"
      }
    },
    {
      "cell_type": "code",
      "source": [
        "                                                          #TASK 3\n",
        "\n",
        "#last floor +8\n",
        "#other floor +5\n",
        "#zero floor return 0\n",
        "def hocBuilder(height):\n",
        "  if height==0:\n",
        "    return 0\n",
        "  else:\n",
        "    if height==1:\n",
        "      return 8\n",
        "    else:\n",
        "      return hocBuilder(height -1) +5\n",
        "print(hocBuilder(3))"
      ],
      "metadata": {
        "colab": {
          "base_uri": "https://localhost:8080/"
        },
        "id": "3gSMeeD0uipb",
        "outputId": "ad83a228-b2de-49b5-c9c9-572fac5aecfa"
      },
      "execution_count": null,
      "outputs": [
        {
          "output_type": "stream",
          "name": "stdout",
          "text": [
            "18\n"
          ]
        }
      ]
    },
    {
      "cell_type": "code",
      "source": [
        ""
      ],
      "metadata": {
        "id": "0JEFP14ZyAMp"
      },
      "execution_count": null,
      "outputs": []
    },
    {
      "cell_type": "markdown",
      "source": [
        "4. [Hard] [ 10 + 10 = 20 Marks]\n",
        " a. Print the following pattern for the given input (you must use recursion): Sample Input: 5 \n",
        "\n",
        "1\n",
        "\n",
        "1 2\n",
        "\n",
        "1 2 3\n",
        "\n",
        "1 2 3 4\n",
        "\n",
        "1 2 3 4 5"
      ],
      "metadata": {
        "id": "NpqQm0ejxrq2"
      }
    },
    {
      "cell_type": "code",
      "source": [
        "#TASK 4                                     #Done\n",
        "#a\n",
        "# task 4 [Hard]\n",
        "# a\n",
        "\n",
        "\n",
        "\n",
        "def print_pattern(n):\n",
        "    \n",
        "    if n == 0:\n",
        "        return 0\n",
        "    else:\n",
        "        print_pattern(n-1)\n",
        "    \n",
        "    make_pattern(n)\n",
        "    print()\n",
        "\n",
        "def make_pattern(n):\n",
        "    \n",
        "    if n == 0:\n",
        "        return 0\n",
        "    else:\n",
        "        make_pattern(n-1)\n",
        "        print(n,end=\" \")\n",
        "\n",
        "\n",
        "\n",
        "n=5\n",
        "print_pattern(n)\n"
      ],
      "metadata": {
        "colab": {
          "base_uri": "https://localhost:8080/"
        },
        "id": "wdFgFrHpx7Xj",
        "outputId": "1f7981c9-441d-4371-e3d1-25cea2a30040"
      },
      "execution_count": null,
      "outputs": [
        {
          "output_type": "stream",
          "name": "stdout",
          "text": [
            "1 \n",
            "1 2 \n",
            "1 2 3 \n",
            "1 2 3 4 \n",
            "1 2 3 4 5 \n"
          ]
        }
      ]
    },
    {
      "cell_type": "code",
      "source": [
        "#TASK 4 A \n",
        "                        #Another Method\n",
        "def LeftPrint(n,Str=\"\",i=1):\n",
        "    if i>n:\n",
        "        return \n",
        "    else:\n",
        "        Str+=str(i)\n",
        "        print(Str,end=\" \\n\")\n",
        "        LeftPrint(n,Str,i+1)\n",
        "        \n",
        "LeftPrint(5)\n",
        "\n",
        "#______________Task_4(b)_____________________\n",
        "\n",
        "#def RightPrint(n,Str=\"\",i=1):\n",
        "#    if i>n:\n",
        "#        return \n",
        "#    else:\n",
        "#        Str+=str(i)\n",
        "#        spaces=(n-i)*\" \"\n",
        "#        print(spaces,Str,end=\" \\n\")\n",
        "#        RightPrint(n,Str,i+1)"
      ],
      "metadata": {
        "colab": {
          "base_uri": "https://localhost:8080/"
        },
        "id": "JjyZPEYE2C_N",
        "outputId": "d444cab4-7ad0-4b31-afe0-33f57b960a85"
      },
      "execution_count": null,
      "outputs": [
        {
          "output_type": "stream",
          "name": "stdout",
          "text": [
            "1 \n",
            "12 \n",
            "123 \n",
            "1234 \n",
            "12345 \n"
          ]
        }
      ]
    },
    {
      "cell_type": "markdown",
      "source": [
        "b. Print the following pattern for the given input (you must use recursion): \n",
        "\n",
        "Sample Input: 5 \n",
        "\n",
        "Sample Output:\n",
        "        1\n",
        "      1 2\n",
        "    1 2 3\n",
        "  1 2 3 4\n",
        "1 2 3 4 5\n"
      ],
      "metadata": {
        "id": "PWGdZos0zu-w"
      }
    },
    {
      "cell_type": "code",
      "source": [
        "#TASK 4         DONE\n",
        "#       B\n",
        "\n",
        "\n",
        "#def RightPrint(n,Str=\"\",i=1):\n",
        "\n",
        "#    if i>n:\n",
        "#        return \n",
        "#    else:\n",
        "#        Str+=str(i)\n",
        "#        spaces=(n-i)*\" \"\n",
        "#        print(spaces,Str,end=\" \\n\")\n",
        "#        RightPrint(n,Str,i+1)\n",
        "#RightPrint(5)\n",
        "                                                #DONE\n",
        "def print_pattern_right(n, string=\"\", count=1):\n",
        "  if count>n:\n",
        "    return 0\n",
        "  else:\n",
        "    string=string+str(count)\n",
        "    no_of_space= (n-count) * \" \"\n",
        "    #printing  line now now\n",
        "    #print(no_of_space, string, end=\" \\n\")\n",
        "    print(no_of_space, string, end=\" \")\n",
        "    print()\n",
        "    #calling function to print rest of the lines\n",
        "    print_pattern_right(n, string, count+ 1)\n",
        "print_pattern_right(5)\n",
        "\n"
      ],
      "metadata": {
        "colab": {
          "base_uri": "https://localhost:8080/"
        },
        "id": "S5qXF2C4xxJ1",
        "outputId": "356ba5eb-f67a-4b6e-f547-1a1809fb8c6d"
      },
      "execution_count": null,
      "outputs": [
        {
          "output_type": "stream",
          "name": "stdout",
          "text": [
            "     1 \n",
            "    12 \n",
            "   123 \n",
            "  1234 \n",
            " 12345 \n"
          ]
        }
      ]
    },
    {
      "cell_type": "markdown",
      "source": [
        "5. [Very Hard] [12 Marks] Suppose, you are working in a company ‘X’ where your job is to calculate the profit based  on their investment.  \n",
        "If the company invests 100,000 USD or less, their profit will be based on 75,000 USD as  first 25,000 USD goes to set up the business in the first place. For the first 100,000 USD,  the profit margin is low: 4.5%. Therefore, for every 100 dollar they spend, they get a profit  of 4.5 dollar. \n",
        "\n",
        "For an investment greater than 100,000 USD, for the first 100,000 USD (actually on 75,000  USD as 25,000 is the setup cost), the profit margin is 4.5% where for the rest, it goes up to  8%. For example, if they invest 250,000 USD, they will get an 8% profit for the 150,000  USD. In addition, from the rest 100,000 USD, 25,000 is the setup cost and there will be a  4.5% profit on the rest 75,000. Investment will always be greater or equal to 25,000 and  multiple of 100.\n",
        "\n",
        "Complete the RECURSIVE methods below that take an array of integers (investments)  and an iterator (always sets to ZERO(‘0’) when the method is initially called) and prints  the profit for the corresponding investment. You must avoid loop and multiplication (‘*’)  operator. \n",
        "\n",
        "class FinalQ: \n",
        " def print(self,array,idx): \n",
        " if(idx<len(array)): \n",
        " profit = self.calcProfit(array[idx])  #TO DO \n",
        "  \n",
        " def calcProfit(self,investment): \n",
        " #TO DO \n",
        "  \n",
        "#Tester \n",
        "array=[25000,100000,250000,350000] \n",
        "f = FinalQ() \n",
        "f.print(array,0)\n",
        "\n",
        "\n",
        "\n",
        "------------------------------------------------- \n",
        "Output: \n",
        "1. Investment: 25000; Profit: 0.0 \n",
        "2. Investment: 100000; Profit: 3375.0 \n",
        "3. Investment: 250000; Profit: 15375.0 \n",
        "4. Investment: 350000; Profit: 23375.0 \n",
        "\n"
      ],
      "metadata": {
        "id": "w2d1gB4M5uMn"
      }
    },
    {
      "cell_type": "code",
      "source": [
        "#Task  5 DONE\n",
        "class FinalQ: \n",
        " def print(self,array,idx): \n",
        "   if(idx<len(array)): \n",
        "     profit = self.calcProfit(array[idx])  #TO DO \n",
        "   \n",
        "   return  print(\"Investment: \"+str(array[idx])+\"; Profit: \",str(profit))\n",
        "\n",
        " def calcProfit(self,investment): \n",
        "   if investment<25000:\n",
        "     return print(\"Investment bust be greater of equal to 25 000\")\n",
        "   elif investment == 25000:\n",
        "     return 0\n",
        "   elif investment <= 100000:\n",
        "     current_profit=  0.045*(investment-25000)\n",
        "     return current_profit + self.calcProfit(25000)\n",
        "   else:\n",
        "     current_profit =  0.08*(investment - 100000)\n",
        "     return current_profit + self.calcProfit(100000)\n",
        "\n",
        " #TO DO \n",
        "  \n",
        "      #Tester \n",
        "array=[25000,100000,250000,350000] \n",
        "h = FinalQ() \n",
        "h.print(array,0)\n",
        "h.print(array,1)\n",
        "h.print(array,2)\n",
        "h.print(array,3)\n"
      ],
      "metadata": {
        "colab": {
          "base_uri": "https://localhost:8080/"
        },
        "id": "dasL8HRW6C9v",
        "outputId": "92f909f6-eee6-4166-b6de-b4399c13633a"
      },
      "execution_count": null,
      "outputs": [
        {
          "output_type": "stream",
          "name": "stdout",
          "text": [
            "Investment: 25000; Profit:  0\n",
            "Investment: 100000; Profit:  3375.0\n",
            "Investment: 250000; Profit:  15375.0\n",
            "Investment: 350000; Profit:  23375.0\n"
          ]
        }
      ]
    },
    {
      "cell_type": "markdown",
      "source": [
        ""
      ],
      "metadata": {
        "id": "E7I6kiHk5sur"
      }
    }
  ]
}