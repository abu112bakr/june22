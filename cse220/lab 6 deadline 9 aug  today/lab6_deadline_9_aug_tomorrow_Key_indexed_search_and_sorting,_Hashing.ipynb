{
  "nbformat": 4,
  "nbformat_minor": 0,
  "metadata": {
    "colab": {
      "name": "lab6 deadline 9 aug tomorrow Key indexed search and sorting, Hashing.ipynb",
      "provenance": [],
      "collapsed_sections": []
    },
    "kernelspec": {
      "name": "python3",
      "display_name": "Python 3"
    },
    "language_info": {
      "name": "python"
    }
  },
  "cells": [
    {
      "cell_type": "markdown",
      "source": [
        "https://docs.google.com/document/d/1J3FSBhkj3v82AH2euSqy_hO-aqnmY0C9ZQ6FKr1L-tk/edit\n",
        "Task1\n",
        "Create a KeyIndex class with the following properties : \n",
        "\n",
        "Fields: \n",
        "\n",
        "int [ ] k; \n",
        "\n",
        "Description\n",
        "An array of integers. \n",
        "\n",
        "Note: You may maintain another global variable(java)/instance variable(python) if needed (but you can’t use more than one).\n",
        "\n",
        "Constructor:(10 marks)\n",
        "KeyIndex(int [ ]a)\n",
        "\n",
        "\n",
        "Description:\n",
        "\n",
        "\n",
        "This constructor takes an array of integers a and populates array k with the element in a as indices into k.\n",
        "\n",
        "Note: make sure the build-up of your array k supports negative and non-distinct integers.\n",
        "Methods:\n",
        "\n",
        "search (int val)    (5 marks)\n",
        "Description:\n",
        "This method searches for the value val within the array and returns true if found or false otherwise.\n",
        "\n",
        "sort ()             (10 marks)\n",
        "Description:\n",
        "\n",
        "This method will return the sorted form of the array that had been passed into the constructor.\n",
        "NOTE: Create a tester class or write tester statements to check whether the methods in your KeyIndex class work properly. You need to submit both the classes as a part of your assignment.                                                           (5 marks)\n"
      ],
      "metadata": {
        "id": "OWPuuV8CeKI4"
      }
    },
    {
      "cell_type": "code",
      "execution_count": null,
      "metadata": {
        "colab": {
          "base_uri": "https://localhost:8080/"
        },
        "id": "36SWf81GdyVr",
        "outputId": "90bf208f-3ddd-4625-d7d4-471f68df8344"
      },
      "outputs": [
        {
          "output_type": "stream",
          "name": "stdout",
          "text": [
            "[0, 1, 2, 3, 4, 5, 6, 7, 8, 9, 10, 11]\n",
            "[4, -1, 3, -4, 7, 4]\n",
            "(max+abs(min)+1)  is  12\n",
            "[0, 0, 0, 0, 0, 0, 0, 0, 0, 0, 0, 0]\n",
            "[1, 0, 0, 1, 0, 0, 0, 1, 2, 0, 0, 1]\n",
            "True\n",
            "True\n",
            "True\n",
            "True\n",
            "True\n",
            "True\n",
            "False\n",
            "False\n",
            "False\n",
            "False\n",
            "\n",
            "[-4, -1, 3, 4, 4, 7]\n"
          ]
        }
      ],
      "source": [
        "class KeyIndex:    ## DONE BUT WAIT TO SEE IF U CAN USE BOTH SELF.A AND SELF.K\n",
        "  #question to sir, Can I use both self.A and self.k\n",
        "  def __init__(self,A):\n",
        "    #self.A=A\n",
        "    \n",
        "    max,min=self.max_min(A)\n",
        "    #print(max) #works\n",
        "    #print(min) #works\n",
        "    self.k=[0]*(max+abs(min)+1)          #modulus(min) i.e abs(min), k is aux array           . 9 i.e index 0to8?  7 i.e index 0ti6?\n",
        "    print(\"(max+abs(min)+1)  is \",(abs(max)+abs(min)+1) )\n",
        "    print(self.k)\n",
        "    #self.k=k\n",
        "    i=0\n",
        "    while(i<len(A)):\n",
        "\n",
        "      self.k[A[i]+abs(min)] = self.k[A[i]+abs(min)]+1\n",
        "      i+=1\n",
        "    print(self.k)\n",
        "    #pass\n",
        "\n",
        "    #global pussy\n",
        "    #pussy=len(a)\n",
        "  def max_min(self,a):\n",
        "    a=a\n",
        "    global min\n",
        "    global len_a\n",
        "    len_a=len(a)\n",
        "    \n",
        "\n",
        "    \n",
        "    max=a[0]\n",
        "    min=a[0]\n",
        "    for i in range(len(a)):\n",
        "      if a[i]>=max:\n",
        "        max=a[i]\n",
        "      if a[i]<=min:\n",
        "        min=a[i]\n",
        "\n",
        "    return max,min\n",
        "  def search(self,val): #done I think\n",
        "    #This method searches for the value val within the array and returns true if found or false otherwise.\n",
        "    #max,min=self.max_min()\n",
        "    #min=min\n",
        "    aug_index= val+ abs(min)\n",
        "    if aug_index<0 or aug_index>(len(self.k)-1):\n",
        "      return False\n",
        "    if self.k[aug_index]>0:\n",
        "      return True\n",
        "    else:\n",
        "      return False\n",
        "\n",
        "  def sort(self):\n",
        "    #max,min=self.max_min()\n",
        "    #min=min\n",
        "    \n",
        "\n",
        "    #new_array=[0]*len(self.A)               #trying to solve this\n",
        "    new_array=[0]*len_a\n",
        "    #max=0\n",
        "    #for i in range(0,len(self.k)):\n",
        "    #  if self.k[i]>0:\n",
        "    #    max=i\n",
        "    #new_array=[0]*len()\n",
        "\n",
        "\n",
        "\n",
        "\n",
        "\n",
        "\n",
        "    index=0\n",
        "    for i in range(0,len(self.k)):\n",
        "      while self.k[i]>=1:\n",
        "        new_array[index]=i-abs(min)\n",
        "        self.k[i]=self.k[i]-1\n",
        "        index+=1\n",
        "    return new_array\n",
        "    pass\n",
        "    \n",
        "\n",
        "  def print(self):\n",
        "    x=self.max_min()\n",
        "    print(x)\n",
        "x=[0,1,2,3,4,5,6,7,8,9,10,11]\n",
        "print(x)\n",
        "a1=[4,-1,3,-4,7,4]\n",
        "#a1=[4,1,3,4,7,4]\n",
        "print(a1)\n",
        "h1= KeyIndex(a1)\n",
        "print(h1.search(4))\n",
        "print(h1.search(-1))\n",
        "print(h1.search(3))\n",
        "print(h1.search(-4))\n",
        "print(h1.search(7))\n",
        "print(h1.search(4))\n",
        "\n",
        "print(h1.search(0))\n",
        "print(h1.search(1))\n",
        "print(h1.search(2))\n",
        "print(h1.search(6))\n",
        "print()\n",
        "print(h1.sort())\n",
        "#h1.print()\n",
        "\n"
      ]
    },
    {
      "cell_type": "code",
      "source": [
        "a=[0,1,2,3]\n",
        "for i in range(len(a)):\n",
        "  print(i)\n",
        "print(abs(-5000))"
      ],
      "metadata": {
        "colab": {
          "base_uri": "https://localhost:8080/"
        },
        "id": "CbydKcApeCfV",
        "outputId": "ee63fa9b-bd64-40f4-f2cc-00180263b8ac"
      },
      "execution_count": null,
      "outputs": [
        {
          "output_type": "stream",
          "name": "stdout",
          "text": [
            "0\n",
            "1\n",
            "2\n",
            "3\n",
            "5000\n"
          ]
        }
      ]
    },
    {
      "cell_type": "code",
      "source": [
        "A=[0,1,2,3,4,5,6,7,8,9]\n",
        "for i in range(0,len(A)):\n",
        "  print(i)"
      ],
      "metadata": {
        "colab": {
          "base_uri": "https://localhost:8080/"
        },
        "id": "8UWpsqBhuw3x",
        "outputId": "c169945c-6d65-413f-a57f-654abdf420f4"
      },
      "execution_count": null,
      "outputs": [
        {
          "output_type": "stream",
          "name": "stdout",
          "text": [
            "0\n",
            "1\n",
            "2\n",
            "3\n",
            "4\n",
            "5\n",
            "6\n",
            "7\n",
            "8\n",
            "9\n"
          ]
        }
      ]
    },
    {
      "cell_type": "markdown",
      "source": [
        "                                          TASK 2 HASHING 15 MARKS\n",
        "\n",
        " Given an array containing Strings, you need to write a code to store them in a hashtable. Assume that the Strings contain a combination of capital letters and numbers, and the String array will contain no more than 9 values.Use the hash function to be the\n",
        "\n",
        " (total number of consonants*24 + summation of the digits) %9. In case of a collision, use linear probing. \n",
        "\n",
        "For a String “ST1E89B8A32”, it’s hash function will produce the value=(3*24+(1+8+9+8+3+2))%9=4, hence it will be stored in index 4 of the hash table.                      \n",
        "\n",
        "Marks distribution: \n",
        "1) Hash function calculation, method properly written =10 marks\n",
        "2) Linear probing properly implemented= 5 marks              \n"
      ],
      "metadata": {
        "id": "RmxdqCSVy7d-"
      }
    },
    {
      "cell_type": "code",
      "source": [
        "#DONE TASK 2 I wont do anymore\n",
        "\n",
        "def hashit(A):\n",
        "  aux_arr=[0]*(len(A))\n",
        "  print(aux_arr)\n",
        "  for strings in A:\n",
        "    sum_of_digits=0\n",
        "    number_of_conconents=0\n",
        "\n",
        "    for x in strings:\n",
        "      if ord(x)>=48 and ord(x)<=57:\n",
        "        sum_of_digits=sum_of_digits+int(x)\n",
        "      elif ord(x)!=65 or ord(x)!=69 or ord(x)!=73 or ord(x)!=79 or ord(x)!=85:\n",
        "        number_of_conconents+=1\n",
        "    #\n",
        "    index=(number_of_conconents*24 +(sum_of_digits))%9\n",
        "    print(\"index  is \",index)\n",
        "    while aux_arr[index] !=0:\n",
        "\n",
        "      index+=1\n",
        "      if index==len(A):\n",
        "\n",
        "        index=0\n",
        "    aux_arr[index]=strings\n",
        "  #\n",
        "  return aux_arr\n",
        "\n",
        "#string_list=[\"1EK2O\",\"3AZUF\",\"0UTOE\",\"DJOFY\",\"3TJIH\",\"TF82M\",\"NND35\",\"JD0KI\",\"VPSJI\",\"6WR4U\"]      \n",
        "#string_list=[\"1EK2O\",\"3AZUF\",\"0UTOE\",\"DJOFY\",\"3TJIH\"]\n",
        "string_list=[\"BF0B842Y5KK\",\"U7XM67DIEB6\",\"3RRMO5GYAAK\",\"H4VU23CSEWH\",\"V9UX213T1JL\",\"JF0BYUN8BSB\",\"P5S323YK7XQ\",\"08U8G7VRHE5\",\"UNCL1DK3MKN\"]\n",
        "\n",
        "print(hashit(string_list))      \n",
        "\n",
        "\n"
      ],
      "metadata": {
        "colab": {
          "base_uri": "https://localhost:8080/"
        },
        "id": "i2axhH1xzR-J",
        "outputId": "337bbcdc-3f5a-4232-d895-66c29874617d"
      },
      "execution_count": null,
      "outputs": [
        {
          "output_type": "stream",
          "name": "stdout",
          "text": [
            "[0, 0, 0, 0, 0, 0, 0, 0, 0]\n",
            "index  is  3\n",
            "index  is  7\n",
            "index  is  8\n",
            "index  is  0\n",
            "index  is  6\n",
            "index  is  3\n",
            "index  is  3\n",
            "index  is  4\n",
            "index  is  6\n",
            "['KD9LNX46TT2', '5W8UWJSDCJH', '5YLHRBO79CT', 'X9ZAR2JD6F7', 'YVRFKVUOH6Y', 'NJ89I7DN7V8', 'WN2NY54F22D', 'ZJO9V49NDOU', 'G94F5SMC2DG']\n"
          ]
        }
      ]
    },
    {
      "cell_type": "code",
      "source": [
        "x=\"ABC\"\n",
        "for i in x:\n",
        "  print(i)\n",
        "print(\"0\",ord(\"0\"))\n",
        "print(\"9\",ord(\"9\"))\n",
        "print(\"A\",ord(\"A\"))\n",
        "print(\"E\",ord(\"E\"))\n",
        "print(\"I\",ord(\"I\"))\n",
        "print(\"O\",ord(\"O\"))\n",
        "print(\"U\",ord(\"U\"))\n",
        "x=ord(\"0\")\n",
        "print(type(x))\n",
        "t=[0,1,2,3,4,5]\n",
        "print(len(t))"
      ],
      "metadata": {
        "colab": {
          "base_uri": "https://localhost:8080/"
        },
        "id": "X-vN0AUqA0jW",
        "outputId": "09adc336-2ca0-4701-afa5-99b802efc6bf"
      },
      "execution_count": null,
      "outputs": [
        {
          "output_type": "stream",
          "name": "stdout",
          "text": [
            "A\n",
            "B\n",
            "C\n",
            "0 48\n",
            "9 57\n",
            "A 65\n",
            "E 69\n",
            "I 73\n",
            "O 79\n",
            "U 85\n",
            "<class 'int'>\n",
            "6\n"
          ]
        }
      ]
    },
    {
      "cell_type": "code",
      "source": [
        "print(1*24+(3)%9)\n",
        "print(2*24+(3)%9)\n",
        "print(3*24+(0)%9)\n",
        "print(4*24+(0)%9)\n",
        "print(3*24+(3)%9)\n"
      ],
      "metadata": {
        "colab": {
          "base_uri": "https://localhost:8080/"
        },
        "id": "CDYuIwCGM0fU",
        "outputId": "a86629c8-8e3f-497a-bef4-002940f91623"
      },
      "execution_count": null,
      "outputs": [
        {
          "output_type": "stream",
          "name": "stdout",
          "text": [
            "27\n",
            "51\n",
            "72\n",
            "96\n",
            "75\n"
          ]
        }
      ]
    }
  ]
}
